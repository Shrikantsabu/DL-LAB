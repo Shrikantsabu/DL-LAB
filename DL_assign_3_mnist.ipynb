{
 "cells": [
  {
   "cell_type": "code",
   "execution_count": 1,
   "id": "1881b1ca-c7c2-4690-837a-c506d37d8b44",
   "metadata": {},
   "outputs": [],
   "source": [
    "import numpy as np\n",
    "import tensorflow as tf\n",
    "from tensorflow.keras.datasets import mnist\n",
    "from tensorflow.keras.utils import to_categorical\n",
    "from tensorflow.keras import layers, models\n",
    "from tensorflow.keras.preprocessing.image import ImageDataGenerator\n",
    "import matplotlib.pyplot as plt"
   ]
  },
  {
   "cell_type": "code",
   "execution_count": 2,
   "id": "933fd60b-9cc1-4474-bfae-7242e272bdd1",
   "metadata": {},
   "outputs": [
    {
     "name": "stdout",
     "output_type": "stream",
     "text": [
      "Found 60000 images belonging to 10 classes.\n",
      "Found 60000 images belonging to 10 classes.\n"
     ]
    }
   ],
   "source": [
    "train_data_dir = 'mnist/train/'\n",
    "test_data_dir = 'mnist/test/'\n",
    "\n",
    "# Image data generator for training data\n",
    "train_datagen = ImageDataGenerator(\n",
    "rescale=1.0/255\n",
    ")\n",
    "\n",
    "# Image data generator for testing data\n",
    "test_datagen = ImageDataGenerator(\n",
    "rescale=1.0/255\n",
    ")\n",
    "\n",
    "# Create data generators\n",
    "train_batch_size = 20000\n",
    "train_generator = train_datagen.flow_from_directory(\n",
    "    train_data_dir,\n",
    "    target_size=(28, 28),  # Resize images to 28x28\n",
    "    batch_size=train_batch_size,\n",
    "    class_mode='categorical', \n",
    "    color_mode='grayscale',# Use 'categorical' for one-hot encoded labels\n",
    "    shuffle=True,\n",
    ")\n",
    "\n",
    "# Load test data without labels (class_mode=None)\n",
    "test_batch_size = 2000\n",
    "test_generator = test_datagen.flow_from_directory(\n",
    " train_data_dir,\n",
    "    target_size=(28, 28),  # Resize images to 28x28\n",
    "    batch_size=test_batch_size,\n",
    "    class_mode='categorical',  # Use 'categorical' for one-hot encoded labels\n",
    "    color_mode='grayscale',\n",
    "    shuffle=True,\n",
    ")"
   ]
  },
  {
   "cell_type": "code",
   "execution_count": 3,
   "id": "f8c7d3eb-9234-403f-a404-762c7a14e3bd",
   "metadata": {},
   "outputs": [],
   "source": [
    "x_train, y_train = train_generator[0]\n",
    "x_test, y_test = test_generator[0]"
   ]
  },
  {
   "cell_type": "code",
   "execution_count": 4,
   "id": "4b5e94d5-398f-4b6b-891f-9fed47d32091",
   "metadata": {},
   "outputs": [
    {
     "name": "stdout",
     "output_type": "stream",
     "text": [
      "(20000, 28, 28, 1) (20000, 10)\n"
     ]
    }
   ],
   "source": [
    "print(x_train.shape, y_train.shape)"
   ]
  },
  {
   "cell_type": "code",
   "execution_count": 5,
   "id": "cbfa1119-5fa2-4973-9e0d-df6a2babbf24",
   "metadata": {},
   "outputs": [],
   "source": [
    "model = models.Sequential()\n",
    "model.add(layers.Conv2D(32, (3, 3), activation='relu', input_shape=(28, 28, 1)))\n",
    "model.add(layers.MaxPooling2D((2, 2)))\n",
    "model.add(layers.Flatten())\n",
    "model.add(layers.Dense(64, activation='relu'))\n",
    "model.add(layers.Dense(10, activation='softmax'))\n",
    "\n",
    "model.compile(optimizer='adam',\n",
    "              loss='categorical_crossentropy',\n",
    "              metrics=['accuracy'])"
   ]
  },
  {
   "cell_type": "code",
   "execution_count": 6,
   "id": "53bb3dbc-50b1-42c0-985f-154d8cb13483",
   "metadata": {},
   "outputs": [
    {
     "name": "stdout",
     "output_type": "stream",
     "text": [
      "Epoch 1/10\n",
      "313/313 [==============================] - 10s 28ms/step - loss: 0.3675 - accuracy: 0.8953 - val_loss: 0.1441 - val_accuracy: 0.9595\n",
      "Epoch 2/10\n",
      "313/313 [==============================] - 9s 28ms/step - loss: 0.1219 - accuracy: 0.9646 - val_loss: 0.0941 - val_accuracy: 0.9705\n",
      "Epoch 3/10\n",
      "313/313 [==============================] - 9s 27ms/step - loss: 0.0767 - accuracy: 0.9776 - val_loss: 0.0715 - val_accuracy: 0.9800\n",
      "Epoch 4/10\n",
      "313/313 [==============================] - 8s 27ms/step - loss: 0.0569 - accuracy: 0.9834 - val_loss: 0.0569 - val_accuracy: 0.9860\n",
      "Epoch 5/10\n",
      "313/313 [==============================] - 9s 27ms/step - loss: 0.0414 - accuracy: 0.9877 - val_loss: 0.0620 - val_accuracy: 0.9810\n",
      "Epoch 6/10\n",
      "313/313 [==============================] - 8s 27ms/step - loss: 0.0312 - accuracy: 0.9906 - val_loss: 0.0501 - val_accuracy: 0.9835\n",
      "Epoch 7/10\n",
      "313/313 [==============================] - 8s 26ms/step - loss: 0.0253 - accuracy: 0.9929 - val_loss: 0.0383 - val_accuracy: 0.9875\n",
      "Epoch 8/10\n",
      "313/313 [==============================] - 8s 27ms/step - loss: 0.0176 - accuracy: 0.9958 - val_loss: 0.0473 - val_accuracy: 0.9875\n",
      "Epoch 9/10\n",
      "313/313 [==============================] - 9s 29ms/step - loss: 0.0134 - accuracy: 0.9966 - val_loss: 0.0424 - val_accuracy: 0.9865\n",
      "Epoch 10/10\n",
      "313/313 [==============================] - 10s 31ms/step - loss: 0.0104 - accuracy: 0.9977 - val_loss: 0.0442 - val_accuracy: 0.9865\n"
     ]
    },
    {
     "data": {
      "text/plain": [
       "<keras.src.callbacks.History at 0x1fe422f7090>"
      ]
     },
     "execution_count": 6,
     "metadata": {},
     "output_type": "execute_result"
    }
   ],
   "source": [
    "model.fit(x_train, y_train, epochs=10, batch_size=64, validation_data=(x_test, y_test))"
   ]
  },
  {
   "cell_type": "code",
   "execution_count": 9,
   "id": "e1f2f83d-ecb0-4982-babf-afdda1f9e1ce",
   "metadata": {},
   "outputs": [
    {
     "name": "stdout",
     "output_type": "stream",
     "text": [
      "63/63 [==============================] - 0s 7ms/step - loss: 0.0442 - accuracy: 0.9865\n",
      "Test Loss:  0.044180456548929214\n",
      "Test Accuracy:  0.9865000247955322\n"
     ]
    }
   ],
   "source": [
    "test_loss, test_accuracy = model.evaluate(x_test, y_test)\n",
    "print(\"Test Loss: \", test_loss)\n",
    "print(\"Test Accuracy: \", test_accuracy)"
   ]
  },
  {
   "cell_type": "code",
   "execution_count": 10,
   "id": "f7b7a6b1-ec2b-4100-ba09-21c7062952d6",
   "metadata": {
    "tags": []
   },
   "outputs": [
    {
     "name": "stdout",
     "output_type": "stream",
     "text": [
      "63/63 [==============================] - 0s 6ms/step\n",
      "Actual Number:  6\n",
      "Predicted Number:  6\n"
     ]
    },
    {
     "data": {
      "image/png": "[encoded data removed]",
      "text/plain": [
       "<Figure size 640x480 with 1 Axes>"
      ]
     },
     "metadata": {},
     "output_type": "display_data"
    }
   ],
   "source": [
    "n = 30 \n",
    "plt.imshow(x_test[n])\n",
    "predicted_value = model.predict(x_test)\n",
    "print(\"Actual Number: \",np.argmax(y_test[n]))\n",
    "print(\"Predicted Number: \", np.argmax(predicted_value[n]))"
   ]
  },
  {
   "cell_type": "code",
   "execution_count": null,
   "id": "2a791973-5da0-419b-9753-c7a5807c9fd2",
   "metadata": {},
   "outputs": [],
   "source": []
  }
 ],
 "metadata": {
  "kernelspec": {
   "display_name": "Python 3 (ipykernel)",
   "language": "python",
   "name": "python3"
  },
  "language_info": {
   "codemirror_mode": {
    "name": "ipython",
    "version": 3
   },
   "file_extension": ".py",
   "mimetype": "text/x-python",
   "name": "python",
   "nbconvert_exporter": "python",
   "pygments_lexer": "ipython3",
   "version": "3.11.3"
  }
 },
 "nbformat": 4,
 "nbformat_minor": 5
}
