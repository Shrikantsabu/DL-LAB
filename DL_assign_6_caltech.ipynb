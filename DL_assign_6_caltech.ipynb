{
 "cells": [
  {
   "cell_type": "code",
   "execution_count": 1,
   "id": "26c00613-4b6e-4286-94f7-b91f0ef08d2d",
   "metadata": {
    "tags": []
   },
   "outputs": [],
   "source": [
    "import tensorflow as tf\n",
    "from tensorflow import keras\n",
    "from tensorflow.keras.applications import VGG16\n",
    "from tensorflow.keras.models import Model\n",
    "from tensorflow.keras.layers import Dense, Flatten\n",
    "from tensorflow.keras.optimizers import Adam\n",
    "from tensorflow.keras.preprocessing.image import ImageDataGenerator\n",
    "import numpy as np"
   ]
  },
  {
   "cell_type": "code",
   "execution_count": 2,
   "id": "69245d14-7a1e-448c-bbee-fc261d46d0f0",
   "metadata": {
    "tags": []
   },
   "outputs": [
    {
     "name": "stdout",
     "output_type": "stream",
     "text": [
      "Found 9144 images belonging to 102 classes.\n"
     ]
    }
   ],
   "source": [
    "dataset_dir = \"caltech101/\"\n",
    "dataset_datagen = ImageDataGenerator(\n",
    "    rescale=1.0 / 255,\n",
    ")\n",
    "\n",
    "# here batch_size is the number of images in each batch\n",
    "batch_size = 2000\n",
    "dataset_generator = dataset_datagen.flow_from_directory(\n",
    "    dataset_dir,\n",
    "    target_size=(64, 64),\n",
    "    batch_size=batch_size,\n",
    "    class_mode='categorical'\n",
    ")"
   ]
  },
  {
   "cell_type": "code",
   "execution_count": 3,
   "id": "aeb198fa-6f92-4af6-bf42-5a311ca4a7a4",
   "metadata": {
    "tags": []
   },
   "outputs": [
    {
     "name": "stdout",
     "output_type": "stream",
     "text": [
      "2000\n",
      "2000\n"
     ]
    }
   ],
   "source": [
    "x_train, y_train =  dataset_generator[0]\n",
    "x_test, y_test = dataset_generator[1]\n",
    "\n",
    "print(len(x_train))\n",
    "print(len(x_test))"
   ]
  },
  {
   "cell_type": "code",
   "execution_count": 4,
   "id": "7bd24a5b-00f1-4f72-b662-32a3dda192de",
   "metadata": {
    "tags": []
   },
   "outputs": [],
   "source": [
    "# Load VGG16 without top layers\n",
    "weights_path = \"vgg16_weights_tf_dim_ordering_tf_kernels_notop.h5\"\n",
    "base_model = VGG16(weights=weights_path, include_top=False, input_shape=(64, 64, 3))"
   ]
  },
  {
   "cell_type": "code",
   "execution_count": 5,
   "id": "f37003e2-1a4f-489f-a3d8-752bceac9ce2",
   "metadata": {
    "tags": []
   },
   "outputs": [],
   "source": [
    "for layer in base_model.layers:\n",
    "   layer.trainable = False"
   ]
  },
  {
   "cell_type": "code",
   "execution_count": 6,
   "id": "d69f5a03-94e0-4709-8520-97960c7d4c4c",
   "metadata": {
    "tags": []
   },
   "outputs": [],
   "source": [
    "x = Flatten()(base_model.output)\n",
    "x = Dense(64, activation='relu')(x)\n",
    "predictions = Dense(102, activation='softmax')(x)\n",
    "\n",
    "# Create the model\n",
    "model = Model(inputs=base_model.input, outputs=predictions)\n",
    "# Compile the model\n",
    "model.compile(optimizer=\"adam\", loss='categorical_crossentropy', metrics=['accuracy'])"
   ]
  },
  {
   "cell_type": "code",
   "execution_count": 7,
   "id": "d800fba6-483b-417d-b20e-7baa3482a15f",
   "metadata": {
    "tags": []
   },
   "outputs": [
    {
     "name": "stdout",
     "output_type": "stream",
     "text": [
      "Epoch 1/10\n",
      "32/32 [==============================] - 113s 4s/step - loss: 4.0510 - accuracy: 0.1855 - val_loss: 3.5001 - val_accuracy: 0.3035\n",
      "Epoch 2/10\n",
      "32/32 [==============================] - 123s 4s/step - loss: 3.0865 - accuracy: 0.3505 - val_loss: 3.0435 - val_accuracy: 0.3570\n",
      "Epoch 3/10\n",
      "32/32 [==============================] - 126s 4s/step - loss: 2.5827 - accuracy: 0.4390 - val_loss: 2.6842 - val_accuracy: 0.4175\n",
      "Epoch 4/10\n",
      "32/32 [==============================] - 126s 4s/step - loss: 2.1691 - accuracy: 0.5205 - val_loss: 2.4274 - val_accuracy: 0.4615\n",
      "Epoch 5/10\n",
      "32/32 [==============================] - 140s 4s/step - loss: 1.8399 - accuracy: 0.5920 - val_loss: 2.2452 - val_accuracy: 0.4925\n",
      "Epoch 6/10\n",
      "32/32 [==============================] - 130s 4s/step - loss: 1.5791 - accuracy: 0.6505 - val_loss: 2.1062 - val_accuracy: 0.5320\n",
      "Epoch 7/10\n",
      "32/32 [==============================] - 162s 5s/step - loss: 1.3792 - accuracy: 0.7005 - val_loss: 2.0341 - val_accuracy: 0.5355\n",
      "Epoch 8/10\n",
      "32/32 [==============================] - 219s 7s/step - loss: 1.2035 - accuracy: 0.7490 - val_loss: 1.9632 - val_accuracy: 0.5460\n",
      "Epoch 9/10\n",
      "32/32 [==============================] - 212s 7s/step - loss: 1.0588 - accuracy: 0.7820 - val_loss: 1.9197 - val_accuracy: 0.5510\n",
      "Epoch 10/10\n",
      "32/32 [==============================] - 212s 7s/step - loss: 0.9438 - accuracy: 0.7960 - val_loss: 1.8732 - val_accuracy: 0.5585\n"
     ]
    },
    {
     "data": {
      "text/plain": [
       "<keras.src.callbacks.History at 0x21ee30c0650>"
      ]
     },
     "execution_count": 7,
     "metadata": {},
     "output_type": "execute_result"
    }
   ],
   "source": [
    "# Train the model\n",
    "model.fit(x_train, y_train, batch_size=64, epochs=10, validation_data=(x_test, y_test))"
   ]
  },
  {
   "cell_type": "code",
   "execution_count": 8,
   "id": "3230853a-0bff-4c51-89ab-6ba526fdc13a",
   "metadata": {
    "tags": []
   },
   "outputs": [
    {
     "name": "stdout",
     "output_type": "stream",
     "text": [
      "Epoch 1/10\n",
      "32/32 [==============================] - 243s 7s/step - loss: 3.2514 - accuracy: 0.3305 - val_loss: 2.4941 - val_accuracy: 0.4505\n",
      "Epoch 2/10\n",
      "32/32 [==============================] - 244s 8s/step - loss: 1.9213 - accuracy: 0.5405 - val_loss: 2.0291 - val_accuracy: 0.5330\n",
      "Epoch 3/10\n",
      "32/32 [==============================] - 247s 8s/step - loss: 1.2497 - accuracy: 0.6840 - val_loss: 1.8590 - val_accuracy: 0.5685\n",
      "Epoch 4/10\n",
      "32/32 [==============================] - 217s 7s/step - loss: 0.8129 - accuracy: 0.7770 - val_loss: 1.7192 - val_accuracy: 0.5935\n",
      "Epoch 5/10\n",
      "32/32 [==============================] - 222s 7s/step - loss: 0.4927 - accuracy: 0.8605 - val_loss: 1.7781 - val_accuracy: 0.6100\n",
      "Epoch 6/10\n",
      "32/32 [==============================] - 243s 8s/step - loss: 0.2905 - accuracy: 0.9180 - val_loss: 1.7516 - val_accuracy: 0.6155\n",
      "Epoch 7/10\n",
      "32/32 [==============================] - 228s 7s/step - loss: 0.2154 - accuracy: 0.9395 - val_loss: 1.8451 - val_accuracy: 0.5960\n",
      "Epoch 8/10\n",
      "32/32 [==============================] - 249s 8s/step - loss: 0.1397 - accuracy: 0.9645 - val_loss: 1.8206 - val_accuracy: 0.6310\n",
      "Epoch 9/10\n",
      "32/32 [==============================] - 252s 8s/step - loss: 0.0852 - accuracy: 0.9800 - val_loss: 1.7317 - val_accuracy: 0.6330\n",
      "Epoch 10/10\n",
      "32/32 [==============================] - 269s 9s/step - loss: 0.0574 - accuracy: 0.9880 - val_loss: 1.9560 - val_accuracy: 0.6160\n"
     ]
    },
    {
     "data": {
      "text/plain": [
       "<keras.src.callbacks.History at 0x21e800a6990>"
      ]
     },
     "execution_count": 8,
     "metadata": {},
     "output_type": "execute_result"
    }
   ],
   "source": [
    "base_model = VGG16(weights=weights_path, include_top=False, input_shape=(64, 64, 3))\n",
    "# freeze all layers first\n",
    "for layer in base_model.layers:\n",
    "   layer.trainable = False\n",
    "# unfreeze last 2 layers of base model\n",
    "for layer in base_model.layers[len(base_model.layers) - 2:]:\n",
    "   layer.trainable = True\n",
    "# fine-tuning hyper parameters\n",
    "x = Flatten()(base_model.output)\n",
    "x = Dense(512, activation='relu')(x)\n",
    "x = tf.keras.layers.Dropout(0.3)(x)\n",
    "predictions = Dense(102, activation='softmax')(x)\n",
    "\n",
    "# Create the model\n",
    "model = Model(inputs=base_model.input, outputs=predictions)\n",
    "# Compile the model\n",
    "model.compile(optimizer=Adam(learning_rate=0.001), loss='categorical_crossentropy', metrics=['accuracy'])\n",
    "# training fine tuned model\n",
    "model.fit(x_train, y_train, batch_size=64, epochs=10, validation_data=(x_test, y_test))"
   ]
  },
  {
   "cell_type": "code",
   "execution_count": 9,
   "id": "db98c5b3-2ce8-4ad3-b635-c3e31dc9970a",
   "metadata": {
    "tags": []
   },
   "outputs": [
    {
     "name": "stdout",
     "output_type": "stream",
     "text": [
      "63/63 [==============================] - 101s 2s/step\n"
     ]
    }
   ],
   "source": [
    "import matplotlib.pyplot as plt\n",
    "predicted_value = model.predict(x_test)"
   ]
  },
  {
   "cell_type": "code",
   "execution_count": 10,
   "id": "69654c50-184f-4cd4-ad27-35f64ba50cf1",
   "metadata": {
    "tags": []
   },
   "outputs": [],
   "source": [
    "labels = list(dataset_generator.class_indices.keys())"
   ]
  },
  {
   "cell_type": "code",
   "execution_count": 11,
   "id": "6bc7a730-445b-4c9e-83f9-fb6fdc9dda4a",
   "metadata": {
    "tags": []
   },
   "outputs": [
    {
     "name": "stdout",
     "output_type": "stream",
     "text": [
      "Preditcted:  scissors\n",
      "Actual:  scissors\n"
     ]
    },
    {
     "data": {
      "image/png": "[encoded data removed]",
      "text/plain": [
       "<Figure size 640x480 with 1 Axes>"
      ]
     },
     "metadata": {},
     "output_type": "display_data"
    }
   ],
   "source": [
    "n = 1000\n",
    "plt.imshow(x_test[n])\n",
    "print(\"Preditcted: \",labels[np.argmax(predicted_value[n])])\n",
    "print(\"Actual: \", labels[np.argmax(y_test[n])])"
   ]
  },
  {
   "cell_type": "code",
   "execution_count": null,
   "id": "3cf49e1c-de8b-4721-a09c-f5a725d52cb7",
   "metadata": {},
   "outputs": [],
   "source": []
  }
 ],
 "metadata": {
  "kernelspec": {
   "display_name": "Python 3 (ipykernel)",
   "language": "python",
   "name": "python3"
  },
  "language_info": {
   "codemirror_mode": {
    "name": "ipython",
    "version": 3
   },
   "file_extension": ".py",
   "mimetype": "text/x-python",
   "name": "python",
   "nbconvert_exporter": "python",
   "pygments_lexer": "ipython3",
   "version": "3.11.3"
  }
 },
 "nbformat": 4,
 "nbformat_minor": 5
}
