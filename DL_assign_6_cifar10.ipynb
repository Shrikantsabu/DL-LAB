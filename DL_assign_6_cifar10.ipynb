{
 "cells": [
  {
   "cell_type": "code",
   "execution_count": 1,
   "id": "31c2e651-8075-41a1-b996-30bca14f1627",
   "metadata": {},
   "outputs": [],
   "source": [
    "import tensorflow as tf\n",
    "from tensorflow import keras\n",
    "from tensorflow.keras.applications import VGG16\n",
    "from tensorflow.keras.models import Model\n",
    "from tensorflow.keras.layers import Dense, Flatten\n",
    "from tensorflow.keras.optimizers import Adam\n",
    "from tensorflow.keras.preprocessing.image import ImageDataGenerator\n",
    "import numpy as np"
   ]
  },
  {
   "cell_type": "code",
   "execution_count": 2,
   "id": "bae4a153-6f00-4265-add9-35904409dd72",
   "metadata": {},
   "outputs": [
    {
     "name": "stdout",
     "output_type": "stream",
     "text": [
      "Found 40079 images belonging to 10 classes.\n",
      "Found 9921 images belonging to 10 classes.\n"
     ]
    }
   ],
   "source": [
    "train_dir = \"cifar10/train/\"\n",
    "test_dir = \"cifar10/test/\"\n",
    "\n",
    "train_datagen = ImageDataGenerator(\n",
    "    rescale=1.0 / 255,\n",
    ")\n",
    "\n",
    "test_datagen = ImageDataGenerator(\n",
    "    rescale=1.0 / 255,\n",
    ")\n",
    "\n",
    "# here batch_size is the number of images in each batch\n",
    "train_batch_size = 5000\n",
    "train_generator = train_datagen.flow_from_directory(\n",
    "    train_dir,\n",
    "    target_size=(32, 32),\n",
    "    batch_size=train_batch_size,\n",
    "    class_mode='categorical'\n",
    ")\n",
    "test_batch_size = 1000\n",
    "test_generator = test_datagen.flow_from_directory(\n",
    "    test_dir,\n",
    "    target_size=(32, 32),\n",
    "    batch_size=test_batch_size,\n",
    "    class_mode='categorical'\n",
    ")"
   ]
  },
  {
   "cell_type": "code",
   "execution_count": 3,
   "id": "b4369f09-67f5-4f91-a6f2-971ed179dea9",
   "metadata": {},
   "outputs": [
    {
     "name": "stdout",
     "output_type": "stream",
     "text": [
      "5000\n",
      "1000\n"
     ]
    }
   ],
   "source": [
    "x_train, y_train =  train_generator[0]\n",
    "x_test, y_test = test_generator[0]\n",
    "\n",
    "print(len(x_train))\n",
    "print(len(x_test))"
   ]
  },
  {
   "cell_type": "code",
   "execution_count": 4,
   "id": "3e80ede0-af89-4fd0-b431-191d5f6401d4",
   "metadata": {},
   "outputs": [],
   "source": [
    "# Load VGG16 without top layers\n",
    "weights_path = \"vgg16_weights_tf_dim_ordering_tf_kernels_notop.h5\"\n",
    "base_model = VGG16(weights=weights_path, include_top=False, input_shape=(32, 32, 3))"
   ]
  },
  {
   "cell_type": "code",
   "execution_count": 5,
   "id": "b64173b6-f973-416d-95a5-bfb158f9aa11",
   "metadata": {},
   "outputs": [],
   "source": [
    "for layer in base_model.layers:\n",
    "   layer.trainable = False"
   ]
  },
  {
   "cell_type": "code",
   "execution_count": 6,
   "id": "e44e9909-36b2-48cb-8470-1e6648a229a2",
   "metadata": {},
   "outputs": [],
   "source": [
    "x = Flatten()(base_model.output)\n",
    "x = Dense(256, activation='relu')(x)\n",
    "x = tf.keras.layers.Dropout(0.3)(x)\n",
    "x = Dense(256, activation='relu')(x)\n",
    "x = tf.keras.layers.Dropout(0.3)(x)\n",
    "predictions = Dense(10, activation='softmax')(x)\n",
    "\n",
    "# Create the model\n",
    "model = Model(inputs=base_model.input, outputs=predictions)\n",
    "# Compile the model\n",
    "model.compile(optimizer=\"adam\", loss='categorical_crossentropy', metrics=['accuracy'])"
   ]
  },
  {
   "cell_type": "code",
   "execution_count": 7,
   "id": "3ce936f9-8497-4be8-877b-63d8f7c27885",
   "metadata": {},
   "outputs": [
    {
     "name": "stdout",
     "output_type": "stream",
     "text": [
      "Epoch 1/10\n",
      "79/79 [==============================] - 95s 1s/step - loss: 1.9857 - accuracy: 0.2848 - val_loss: 1.6356 - val_accuracy: 0.4470\n",
      "Epoch 2/10\n",
      "79/79 [==============================] - 96s 1s/step - loss: 1.5998 - accuracy: 0.4450 - val_loss: 1.4627 - val_accuracy: 0.4690\n",
      "Epoch 3/10\n",
      "79/79 [==============================] - 91s 1s/step - loss: 1.4723 - accuracy: 0.4788 - val_loss: 1.4119 - val_accuracy: 0.5040\n",
      "Epoch 4/10\n",
      "79/79 [==============================] - 87s 1s/step - loss: 1.3703 - accuracy: 0.5222 - val_loss: 1.3860 - val_accuracy: 0.5090\n",
      "Epoch 5/10\n",
      "79/79 [==============================] - 89s 1s/step - loss: 1.3146 - accuracy: 0.5376 - val_loss: 1.3821 - val_accuracy: 0.5000\n",
      "Epoch 6/10\n",
      "79/79 [==============================] - 92s 1s/step - loss: 1.2726 - accuracy: 0.5564 - val_loss: 1.3603 - val_accuracy: 0.5080\n",
      "Epoch 7/10\n",
      "79/79 [==============================] - 89s 1s/step - loss: 1.1869 - accuracy: 0.5880 - val_loss: 1.3633 - val_accuracy: 0.5290\n",
      "Epoch 8/10\n",
      "79/79 [==============================] - 90s 1s/step - loss: 1.1409 - accuracy: 0.6092 - val_loss: 1.3480 - val_accuracy: 0.5290\n",
      "Epoch 9/10\n",
      "79/79 [==============================] - 89s 1s/step - loss: 1.1177 - accuracy: 0.6146 - val_loss: 1.3204 - val_accuracy: 0.5210\n",
      "Epoch 10/10\n",
      "79/79 [==============================] - 88s 1s/step - loss: 1.0577 - accuracy: 0.6306 - val_loss: 1.3326 - val_accuracy: 0.5380\n"
     ]
    },
    {
     "data": {
      "text/plain": [
       "<keras.src.callbacks.History at 0x25e3d7404d0>"
      ]
     },
     "execution_count": 7,
     "metadata": {},
     "output_type": "execute_result"
    }
   ],
   "source": [
    "# Train the model\n",
    "model.fit(x_train, y_train, batch_size=64, epochs=10, validation_data=(x_test, y_test))"
   ]
  },
  {
   "cell_type": "code",
   "execution_count": 8,
   "id": "c1d6efc6-3209-4586-8947-385a0120f861",
   "metadata": {},
   "outputs": [
    {
     "name": "stdout",
     "output_type": "stream",
     "text": [
      "Epoch 1/10\n",
      "79/79 [==============================] - 250s 3s/step - loss: 1.8816 - accuracy: 0.2976 - val_loss: 1.3777 - val_accuracy: 0.5130\n",
      "Epoch 2/10\n",
      "79/79 [==============================] - 244s 3s/step - loss: 1.3630 - accuracy: 0.5084 - val_loss: 1.2589 - val_accuracy: 0.5660\n",
      "Epoch 3/10\n",
      "79/79 [==============================] - 224s 3s/step - loss: 1.0790 - accuracy: 0.6304 - val_loss: 1.1454 - val_accuracy: 0.6100\n",
      "Epoch 4/10\n",
      "79/79 [==============================] - 213s 3s/step - loss: 0.9208 - accuracy: 0.6902 - val_loss: 1.3041 - val_accuracy: 0.5820\n",
      "Epoch 5/10\n",
      "79/79 [==============================] - 245s 3s/step - loss: 0.8216 - accuracy: 0.7196 - val_loss: 1.0968 - val_accuracy: 0.6530\n",
      "Epoch 6/10\n",
      "79/79 [==============================] - 232s 3s/step - loss: 0.7143 - accuracy: 0.7674 - val_loss: 1.1331 - val_accuracy: 0.6220\n",
      "Epoch 7/10\n",
      "79/79 [==============================] - 234s 3s/step - loss: 0.6182 - accuracy: 0.7946 - val_loss: 1.3615 - val_accuracy: 0.6340\n",
      "Epoch 8/10\n",
      "79/79 [==============================] - 229s 3s/step - loss: 0.5407 - accuracy: 0.8212 - val_loss: 1.3595 - val_accuracy: 0.6150\n",
      "Epoch 9/10\n",
      "79/79 [==============================] - 228s 3s/step - loss: 0.4558 - accuracy: 0.8474 - val_loss: 1.3372 - val_accuracy: 0.6400\n",
      "Epoch 10/10\n",
      "79/79 [==============================] - 224s 3s/step - loss: 0.3805 - accuracy: 0.8758 - val_loss: 1.3969 - val_accuracy: 0.6460\n"
     ]
    },
    {
     "data": {
      "text/plain": [
       "<keras.src.callbacks.History at 0x25e38627ad0>"
      ]
     },
     "execution_count": 8,
     "metadata": {},
     "output_type": "execute_result"
    }
   ],
   "source": [
    "base_model = VGG16(weights=weights_path, include_top=False, input_shape=(32, 32, 3))\n",
    "# freeze all layers first\n",
    "for layer in base_model.layers:\n",
    "   layer.trainable = False\n",
    "# unfreeze last 4 layers of base model\n",
    "for layer in base_model.layers[len(base_model.layers) - 4:]:\n",
    "   layer.trainable = True\n",
    "# fine-tuning hyper parameters\n",
    "x = Flatten()(base_model.output)\n",
    "x = Dense(256, activation='relu')(x)\n",
    "x = tf.keras.layers.Dropout(0.3)(x)\n",
    "x = Dense(512, activation='relu')(x)\n",
    "x = tf.keras.layers.Dropout(0.3)(x)\n",
    "predictions = Dense(10, activation='softmax')(x)\n",
    "\n",
    "# Create the model\n",
    "model = Model(inputs=base_model.input, outputs=predictions)\n",
    "# Compile the model\n",
    "model.compile(optimizer=Adam(learning_rate=0.001), loss='categorical_crossentropy', metrics=['accuracy'])\n",
    "# training fine tuned model\n",
    "model.fit(x_train, y_train, batch_size=64, epochs=10, validation_data=(x_test, y_test))"
   ]
  },
  {
   "cell_type": "code",
   "execution_count": 9,
   "id": "fc035871-ca9a-4c0e-9204-d999e14c53c8",
   "metadata": {},
   "outputs": [
    {
     "name": "stdout",
     "output_type": "stream",
     "text": [
      "32/32 [==============================] - 20s 586ms/step\n"
     ]
    }
   ],
   "source": [
    "import matplotlib.pyplot as plt\n",
    "predicted_value = model.predict(x_test)"
   ]
  },
  {
   "cell_type": "code",
   "execution_count": 10,
   "id": "3637d2e8-05ea-4e4d-a38b-b2c1ca6c76be",
   "metadata": {},
   "outputs": [],
   "source": [
    "labels = list(test_generator.class_indices.keys())"
   ]
  },
  {
   "cell_type": "code",
   "execution_count": 11,
   "id": "6d4825f5-8e54-47a9-ab3b-57e55c9d11f4",
   "metadata": {
    "tags": []
   },
   "outputs": [
    {
     "name": "stdout",
     "output_type": "stream",
     "text": [
      "Preditcted:  horse\n",
      "Actual:  horse\n"
     ]
    },
    {
     "data": {
      "image/png": "[encoded data removed]",
      "text/plain": [
       "<Figure size 640x480 with 1 Axes>"
      ]
     },
     "metadata": {},
     "output_type": "display_data"
    }
   ],
   "source": [
    "n = 890\n",
    "plt.imshow(x_test[n])\n",
    "print(\"Preditcted: \",labels[np.argmax(predicted_value[n])])\n",
    "print(\"Actual: \", labels[np.argmax(y_test[n])])"
   ]
  }
 ],
 "metadata": {
  "kernelspec": {
   "display_name": "Python 3 (ipykernel)",
   "language": "python",
   "name": "python3"
  },
  "language_info": {
   "codemirror_mode": {
    "name": "ipython",
    "version": 3
   },
   "file_extension": ".py",
   "mimetype": "text/x-python",
   "name": "python",
   "nbconvert_exporter": "python",
   "pygments_lexer": "ipython3",
   "version": "3.11.3"
  }
 },
 "nbformat": 4,
 "nbformat_minor": 5
}
